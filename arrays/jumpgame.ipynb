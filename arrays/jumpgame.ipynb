{
 "cells": [
  {
   "cell_type": "code",
   "execution_count": null,
   "metadata": {},
   "outputs": [],
   "source": [
    "class Solution(object):\n",
    "    def canJump(self, nums):\n",
    "        \"\"\" O(n), the first step gives you an upper limit on how much you can jump, if any of the following elements within your max jump capacity can extend\n",
    "        that capacity, then we extend the jump capacity and continue iterating over the array. If our jump capacity exceeds the jump_goal, we return true, otherwise false\n",
    "        :type nums: List[int]\n",
    "        :rtype: bool\n",
    "        \"\"\"\n",
    "\n",
    "        max_distance = nums[0]\n",
    "        jump_goal = len(nums) - 1\n",
    "\n",
    "        for i, val in enumerate(nums):\n",
    "            if i > max_distance:\n",
    "                return False\n",
    "            else:\n",
    "                i_max_jump = i + val\n",
    "                if i_max_jump > max_distance:\n",
    "                    max_distance = i_max_jump\n",
    "\n",
    "            if max_distance >= jump_goal:\n",
    "                return True\n",
    "\n",
    "        "
   ]
  }
 ],
 "metadata": {
  "language_info": {
   "name": "python"
  }
 },
 "nbformat": 4,
 "nbformat_minor": 2
}
