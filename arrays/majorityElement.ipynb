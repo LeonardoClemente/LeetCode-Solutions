{
 "cells": [
  {
   "cell_type": "code",
   "execution_count": null,
   "metadata": {},
   "outputs": [],
   "source": [
    "def majorityElement(nums):\n",
    "    \"\"\" Define the threshold, and make a counter for the values we see.\n",
    "    When we find a value of the array that has already been found 'threshold' times. Then we \n",
    "    found our majority element.\n",
    "\n",
    "    :type nums: List[int]\n",
    "    :rtype: int\n",
    "    \"\"\"\n",
    "\n",
    "    threshold = int(len(nums)/2)\n",
    "\n",
    "    counter = {}\n",
    "\n",
    "    for val in nums:\n",
    "    \n",
    "        count = counter.get(val, 0)\n",
    "\n",
    "        if count == threshold:\n",
    "            return val\n",
    "        elif  count == 0:\n",
    "            counter[val] = 1\n",
    "        else:\n",
    "            counter[val] += 1"
   ]
  },
  {
   "cell_type": "code",
   "execution_count": null,
   "metadata": {},
   "outputs": [],
   "source": []
  }
 ],
 "metadata": {
  "language_info": {
   "name": "python"
  }
 },
 "nbformat": 4,
 "nbformat_minor": 2
}
