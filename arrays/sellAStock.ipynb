{
 "cells": [
  {
   "cell_type": "code",
   "execution_count": 21,
   "metadata": {},
   "outputs": [],
   "source": [
    "class Solution(object):\n",
    "    def maxProfit(self, prices):\n",
    "        \"\"\"\n",
    "        :type prices: List[int]\n",
    "        :rtype: int\n",
    "        \"\"\"\n",
    "    \n",
    "        \n",
    "        \n",
    "\n",
    "        if len(prices) >= 2:\n",
    "        \n",
    "            max_profit = prices[1] - prices[0]\n",
    "\n",
    "            if prices[1] < prices[0]:\n",
    "                min_val = prices[1]\n",
    "            else:\n",
    "                min_val = prices[0]\n",
    "            \n",
    "            for i in range(2, len(prices)):\n",
    "\n",
    "                new_profit = prices[i] - min_val\n",
    "                if new_profit > max_profit:\n",
    "                    max_profit = new_profit\n",
    "                \n",
    "                if prices[i] < min_val:\n",
    "                    min_val = prices[i]\n",
    "            \n",
    "            if max_profit < 0:\n",
    "                return 0\n",
    "            else:\n",
    "                return max_profit\n",
    "        else:\n",
    "            return 0\n",
    "\n",
    "\n",
    "            \n",
    "\n",
    "\n",
    "\n",
    "        \n",
    "        "
   ]
  },
  {
   "cell_type": "code",
   "execution_count": 20,
   "metadata": {},
   "outputs": [
    {
     "name": "stdout",
     "output_type": "stream",
     "text": [
      "pass\n",
      "0 2\n",
      "1 0\n",
      "1 4\n",
      "bad indices\n",
      "pass\n",
      "1 2\n",
      "2 0\n",
      "2 4\n",
      "bad indices\n"
     ]
    },
    {
     "data": {
      "text/plain": [
       "0"
      ]
     },
     "execution_count": 20,
     "metadata": {},
     "output_type": "execute_result"
    }
   ],
   "source": [
    "maxProfit([4,1,2])"
   ]
  },
  {
   "cell_type": "code",
   "execution_count": null,
   "metadata": {},
   "outputs": [],
   "source": []
  }
 ],
 "metadata": {
  "kernelspec": {
   "display_name": "Python 3",
   "language": "python",
   "name": "python3"
  },
  "language_info": {
   "codemirror_mode": {
    "name": "ipython",
    "version": 3
   },
   "file_extension": ".py",
   "mimetype": "text/x-python",
   "name": "python",
   "nbconvert_exporter": "python",
   "pygments_lexer": "ipython3",
   "version": "3.9.13"
  }
 },
 "nbformat": 4,
 "nbformat_minor": 2
}
