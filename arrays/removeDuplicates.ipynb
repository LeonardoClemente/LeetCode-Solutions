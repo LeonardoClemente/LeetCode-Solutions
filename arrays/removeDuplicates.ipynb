{
 "cells": [
  {
   "cell_type": "code",
   "execution_count": null,
   "metadata": {},
   "outputs": [],
   "source": [
    "\n",
    "class Solution(object):\n",
    "    def removeDuplicates(self, nums):\n",
    "        \"\"\" Essentially just iterate over the array once. We keep two aux variables \"current\" and \"repeated\"\n",
    "        current provides information about the latest encountered number. Repeated is a boolean that tells\n",
    "        you if the variable has been repeated or not (we got at at most 2 allowed repetitions). As we \n",
    "        iterate over the array, we consult current to check if the variable has been encountered, and then\n",
    "        repeated to know if the current number we're evaluating should be considered part of the solution or\n",
    "        not.\n",
    "\n",
    "        :type nums: List[int]\n",
    "        :rtype: int\n",
    "        \"\"\"\n",
    "\n",
    "\n",
    "        k = 1\n",
    "        p2 = 1\n",
    "\n",
    "        current = nums[0]\n",
    "        repeated = False\n",
    "\n",
    "        for p1, val in enumerate(nums):\n",
    "            if p1 < 1:\n",
    "                continue\n",
    "\n",
    "            if val != current:\n",
    "                current = val\n",
    "                repeated = False\n",
    "                nums[p2] = val\n",
    "                p2 += 1\n",
    "                k +=1\n",
    "            elif not repeated:\n",
    "                repeated = True\n",
    "                nums[p2] = val\n",
    "                p2 += 1\n",
    "                k +=1\n",
    "            \n",
    "        return k\n",
    "            \n"
   ]
  }
 ],
 "metadata": {
  "language_info": {
   "name": "python"
  }
 },
 "nbformat": 4,
 "nbformat_minor": 2
}
